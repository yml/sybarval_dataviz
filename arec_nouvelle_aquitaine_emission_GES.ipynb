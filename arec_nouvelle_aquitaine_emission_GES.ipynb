{
 "cells": [
  {
   "cell_type": "markdown",
   "metadata": {},
   "source": [
    "# AREC Nouvelle Aquitaine emissions GES\n",
    "\n",
    "## Emission de gaz a effet de serre \n",
    "\n",
    "Les emissions sont par EPCI\n",
    "\n",
    "source: https://arec-nouvelleaquitaine.terristory.fr/"
   ]
  },
  {
   "cell_type": "code",
   "execution_count": 12,
   "metadata": {},
   "outputs": [],
   "source": [
    "import pandas as pd\n",
    "\n",
    "FILE2 = \"_data/arec_nouvelle_aquitaine_emissions_GES_scope_1_2.csv\"\n",
    "FILE3 = \"_data/arec_nouvelle_aquitaine_emissions_GES.csv\"\n",
    "\n",
    "df_scope2= pd.read_csv(FILE2, delimiter=\";\")\n",
    "df_scope3= pd.read_csv(FILE3, delimiter=\";\")"
   ]
  },
  {
   "cell_type": "code",
   "execution_count": 13,
   "metadata": {},
   "outputs": [],
   "source": [
    "SYBARVAL = [\n",
    "    \"CA Bassin d'Arcachon Sud-Pôle Atlantique (COBAS)\",\n",
    "    \"CA du Bassin d'Arcachon Nord\",\n",
    "    \"CC du Val de l'Eyre\",\n",
    "]"
   ]
  },
  {
   "cell_type": "code",
   "execution_count": 14,
   "metadata": {},
   "outputs": [],
   "source": [
    "df_scope2_sybarval =  df_scope2[df_scope2[\"nom\"].isin(SYBARVAL)]\n",
    "df_scope3_sybarval =  df_scope3[df_scope2[\"nom\"].isin(SYBARVAL)]\n"
   ]
  },
  {
   "cell_type": "markdown",
   "metadata": {},
   "source": [
    "## GES pour les 3 EPCI du SYBARVAL\n",
    "\n",
    "Les resultats de AREC sont "
   ]
  },
  {
   "cell_type": "code",
   "execution_count": 15,
   "metadata": {},
   "outputs": [],
   "source": [
    "df_scope2_sybarval_grouped = df_scope2_sybarval.groupby(\"nom\")[\"valeur_ktCO2e\"].sum()"
   ]
  },
  {
   "cell_type": "code",
   "execution_count": 16,
   "metadata": {},
   "outputs": [
    {
     "name": "stdout",
     "output_type": "stream",
     "text": [
      "1062.614926188575\n"
     ]
    }
   ],
   "source": [
    "toutes_emissions = df_scope2_sybarval_grouped.sum()\n",
    "print(f\"{toutes_emissions}\")"
   ]
  },
  {
   "cell_type": "code",
   "execution_count": 17,
   "metadata": {},
   "outputs": [
    {
     "name": "stdout",
     "output_type": "stream",
     "text": [
      "<class 'pandas.core.frame.DataFrame'>\n",
      "Int64Index: 0 entries\n",
      "Data columns (total 9 columns):\n",
      " #   Column         Non-Null Count  Dtype  \n",
      "---  ------         --------------  -----  \n",
      " 0   code           0 non-null      int64  \n",
      " 1   nom            0 non-null      object \n",
      " 2   x              0 non-null      int64  \n",
      " 3   y              0 non-null      int64  \n",
      " 4   secteur        0 non-null      object \n",
      " 5   origine_ges    0 non-null      object \n",
      " 6   type_gaz       0 non-null      object \n",
      " 7   valeur_ktCO2e  0 non-null      float64\n",
      " 8   annee          0 non-null      int64  \n",
      "dtypes: float64(1), int64(4), object(4)\n",
      "memory usage: 0.0+ bytes\n"
     ]
    }
   ],
   "source": [
    "df_scope3_sybarval.dropna(subset=[\"valeur_ktCO2e\"]).info()"
   ]
  }
 ],
 "metadata": {
  "kernelspec": {
   "display_name": "Python 3.10.8 ('.venv': poetry)",
   "language": "python",
   "name": "python3"
  },
  "language_info": {
   "codemirror_mode": {
    "name": "ipython",
    "version": 3
   },
   "file_extension": ".py",
   "mimetype": "text/x-python",
   "name": "python",
   "nbconvert_exporter": "python",
   "pygments_lexer": "ipython3",
   "version": "3.10.8"
  },
  "orig_nbformat": 4,
  "vscode": {
   "interpreter": {
    "hash": "94378994df173976c7423975a29d374af16b79b597dd365964d05ab1a732f0ab"
   }
  }
 },
 "nbformat": 4,
 "nbformat_minor": 2
}
